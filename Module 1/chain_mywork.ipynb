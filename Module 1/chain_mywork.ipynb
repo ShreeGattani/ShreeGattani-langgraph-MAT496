{
 "cells": [
  {
   "cell_type": "markdown",
   "id": "0b58a1de",
   "metadata": {},
   "source": [
    "# Messages \n",
    "Each message can be supplied with a few things:\n",
    "\n",
    "* `content` - content of the message\n",
    "* `name` - optionally, a message author \n",
    "* `response_metadata` - optionally, a dict of metadata (e.g., often populated by model provider for `AIMessages`)"
   ]
  },
  {
   "cell_type": "markdown",
   "id": "5d9efc9a",
   "metadata": {},
   "source": [
    "here is the conversation regarding space between human and ai "
   ]
  },
  {
   "cell_type": "code",
   "execution_count": 1,
   "id": "f2834092",
   "metadata": {},
   "outputs": [
    {
     "name": "stdout",
     "output_type": "stream",
     "text": [
      "==================================\u001b[1m Ai Message \u001b[0m==================================\n",
      "Name: Model\n",
      "\n",
      "Hey! You mentioned you’ve been following recent space missions?\n",
      "================================\u001b[1m Human Message \u001b[0m=================================\n",
      "Name: Lance\n",
      "\n",
      "Yeah, I’ve been really fascinated by what NASA and SpaceX are doing.\n",
      "==================================\u001b[1m Ai Message \u001b[0m==================================\n",
      "Name: Model\n",
      "\n",
      "That’s exciting! Do you follow more of the moon missions or the Mars exploration projects?\n",
      "================================\u001b[1m Human Message \u001b[0m=================================\n",
      "Name: Lance\n",
      "\n",
      "Mostly Mars missions — I want to know when humans might actually set foot there.\n"
     ]
    }
   ],
   "source": [
    "from pprint import pprint\n",
    "from langchain_core.messages import AIMessage, HumanMessage\n",
    "\n",
    "messages = [AIMessage(content=\"Hey! You mentioned you’ve been following recent space missions?\", name=\"Model\")]\n",
    "messages.append(HumanMessage(content=\"Yeah, I’ve been really fascinated by what NASA and SpaceX are doing.\", name=\"Lance\"))\n",
    "messages.append(AIMessage(content=\"That’s exciting! Do you follow more of the moon missions or the Mars exploration projects?\", name=\"Model\"))\n",
    "messages.append(HumanMessage(content=\"Mostly Mars missions — I want to know when humans might actually set foot there.\", name=\"Lance\"))\n",
    "\n",
    "for m in messages:\n",
    "    m.pretty_print()\n"
   ]
  },
  {
   "cell_type": "markdown",
   "id": "487dd114",
   "metadata": {},
   "source": [
    "# Chatmodel"
   ]
  },
  {
   "cell_type": "code",
   "execution_count": 2,
   "id": "71932d14",
   "metadata": {},
   "outputs": [
    {
     "data": {
      "text/plain": [
       "langchain_core.messages.ai.AIMessage"
      ]
     },
     "execution_count": 2,
     "metadata": {},
     "output_type": "execute_result"
    }
   ],
   "source": [
    "from langchain_openai import ChatOpenAI\n",
    "llm = ChatOpenAI(model=\"gpt-4o\")\n",
    "result = llm.invoke(messages)\n",
    "type(result)"
   ]
  },
  {
   "cell_type": "code",
   "execution_count": 3,
   "id": "f79cb72a",
   "metadata": {},
   "outputs": [
    {
     "data": {
      "text/plain": [
       "AIMessage(content=\"The prospect of humans landing on Mars is really captivating! NASA’s Artemis program, though primarily focused on the Moon, is a critical step towards Mars, as it plans to use the Moon as a proving ground for technologies and logistics. Meanwhile, NASA's Mars 2020 mission with the Perseverance rover is actively exploring Mars and prepping for future crewed missions, focusing on collecting samples and studying the planet's habitability.\\n\\nSpaceX is pushing hard with its Starship project, intending to revolutionize space travel and make a Mars settlement possible. Elon Musk has talked about launching crewed missions to Mars as early as the 2030s, depending greatly on technology development and successful test flights.\\n\\nThere are still numerous challenges to overcome, like life-support systems, radiation protection, and sustainable living conditions, but the progress being made is truly promising. Would you be interested in traveling to Mars if the opportunity arose?\", additional_kwargs={'refusal': None}, response_metadata={'token_usage': {'completion_tokens': 182, 'prompt_tokens': 89, 'total_tokens': 271, 'completion_tokens_details': {'accepted_prediction_tokens': 0, 'audio_tokens': 0, 'reasoning_tokens': 0, 'rejected_prediction_tokens': 0}, 'prompt_tokens_details': {'audio_tokens': 0, 'cached_tokens': 0}}, 'model_name': 'gpt-4o-2024-08-06', 'system_fingerprint': 'fp_cbf1785567', 'id': 'chatcmpl-CRGeQtdUSndAXrIjuEzNP1Zo4a3QH', 'service_tier': 'default', 'finish_reason': 'stop', 'logprobs': None}, id='run--e0ed7093-d97f-4903-b51c-93bbffaf34ac-0', usage_metadata={'input_tokens': 89, 'output_tokens': 182, 'total_tokens': 271, 'input_token_details': {'audio': 0, 'cache_read': 0}, 'output_token_details': {'audio': 0, 'reasoning': 0}})"
      ]
     },
     "execution_count": 3,
     "metadata": {},
     "output_type": "execute_result"
    }
   ],
   "source": [
    "result"
   ]
  },
  {
   "cell_type": "code",
   "execution_count": 4,
   "id": "62390c93",
   "metadata": {},
   "outputs": [
    {
     "data": {
      "text/plain": [
       "{'token_usage': {'completion_tokens': 182,\n",
       "  'prompt_tokens': 89,\n",
       "  'total_tokens': 271,\n",
       "  'completion_tokens_details': {'accepted_prediction_tokens': 0,\n",
       "   'audio_tokens': 0,\n",
       "   'reasoning_tokens': 0,\n",
       "   'rejected_prediction_tokens': 0},\n",
       "  'prompt_tokens_details': {'audio_tokens': 0, 'cached_tokens': 0}},\n",
       " 'model_name': 'gpt-4o-2024-08-06',\n",
       " 'system_fingerprint': 'fp_cbf1785567',\n",
       " 'id': 'chatcmpl-CRGeQtdUSndAXrIjuEzNP1Zo4a3QH',\n",
       " 'service_tier': 'default',\n",
       " 'finish_reason': 'stop',\n",
       " 'logprobs': None}"
      ]
     },
     "execution_count": 4,
     "metadata": {},
     "output_type": "execute_result"
    }
   ],
   "source": [
    "result.response_metadata"
   ]
  },
  {
   "cell_type": "markdown",
   "id": "fe19ed81",
   "metadata": {},
   "source": [
    "# Using Tools \n",
    "Let's showcase a simple example of tool calling!\n",
    "here im building a simple calculator function which can sum , divide, add and multiply "
   ]
  },
  {
   "cell_type": "code",
   "execution_count": 5,
   "id": "e7f7fc64",
   "metadata": {},
   "outputs": [],
   "source": [
    "\n",
    "\n",
    "def add(a: int, b: int) -> int:\n",
    "    \"\"\"A function that adds two numbers\"\"\"\n",
    "    return a + b;\n",
    "\n",
    "def divide(a: int, b: int) -> int:\n",
    "    \"\"\"A function that divides two numbers\"\"\"\n",
    "    return a / b;\n",
    "\n",
    "def multiply(a: int, b: int) -> int:\n",
    "    \"\"\"A function that multiplies two numbers\"\"\"\n",
    "    return a * b;\n",
    "\n",
    "def subtract(a: int, b: int) -> int:\n",
    "    \"\"\"A function that subtracts two numbers\"\"\"\n",
    "    return a - b;\n",
    "\n",
    "tools=[add,divide,multiply,subtract]\n",
    "llm_with_tools = llm.bind_tools(tools)"
   ]
  },
  {
   "cell_type": "code",
   "execution_count": 6,
   "id": "2f9b8cdc",
   "metadata": {},
   "outputs": [
    {
     "name": "stdout",
     "output_type": "stream",
     "text": [
      "==================================\u001b[1m Ai Message \u001b[0m==================================\n",
      "Tool Calls:\n",
      "  multiply (call_C3lY7nL6YZtGSqVdtJhiWPpb)\n",
      " Call ID: call_C3lY7nL6YZtGSqVdtJhiWPpb\n",
      "  Args:\n",
      "    a: 8\n",
      "    b: 4\n"
     ]
    }
   ],
   "source": [
    "tool_call = llm_with_tools.invoke([HumanMessage(content=f\"What is 8 multiplied by 4\", name=\"Lance\")])\n",
    "tool_call.pretty_print()"
   ]
  },
  {
   "cell_type": "code",
   "execution_count": 8,
   "id": "165c83ef",
   "metadata": {},
   "outputs": [
    {
     "name": "stdout",
     "output_type": "stream",
     "text": [
      "==================================\u001b[1m Ai Message \u001b[0m==================================\n",
      "Tool Calls:\n",
      "  add (call_xQ7JgPNxoDLmr82jpK79OWEB)\n",
      " Call ID: call_xQ7JgPNxoDLmr82jpK79OWEB\n",
      "  Args:\n",
      "    a: 2\n",
      "    b: 4\n"
     ]
    }
   ],
   "source": [
    "tool_call = llm_with_tools.invoke([HumanMessage(content=f\"What is 2 added with 4\", name=\"Lance\")])\n",
    "tool_call.pretty_print()"
   ]
  },
  {
   "cell_type": "code",
   "execution_count": 7,
   "id": "47464925",
   "metadata": {},
   "outputs": [
    {
     "data": {
      "text/plain": [
       "[{'name': 'multiply',\n",
       "  'args': {'a': 8, 'b': 4},\n",
       "  'id': 'call_C3lY7nL6YZtGSqVdtJhiWPpb',\n",
       "  'type': 'tool_call'}]"
      ]
     },
     "execution_count": 7,
     "metadata": {},
     "output_type": "execute_result"
    }
   ],
   "source": [
    "tool_call.tool_calls"
   ]
  },
  {
   "cell_type": "markdown",
   "id": "f95f2461",
   "metadata": {},
   "source": [
    "# Using messages as state"
   ]
  },
  {
   "cell_type": "code",
   "execution_count": 9,
   "id": "725bb2aa",
   "metadata": {},
   "outputs": [],
   "source": [
    "from typing_extensions import TypedDict\n",
    "from langchain_core.messages import AnyMessage\n",
    "\n",
    "class MessagesState(TypedDict):\n",
    "    messages: list[AnyMessage]"
   ]
  },
  {
   "cell_type": "markdown",
   "id": "a57af785",
   "metadata": {},
   "source": [
    "# Reducers\n",
    "This is used to append msgs otherwise they will be overridden"
   ]
  },
  {
   "cell_type": "code",
   "execution_count": 10,
   "id": "3d15fd4a",
   "metadata": {},
   "outputs": [],
   "source": [
    "from typing import Annotated\n",
    "from langgraph.graph.message import add_messages\n",
    "\n",
    "class MessagesState(TypedDict):\n",
    "    messages: Annotated[list[AnyMessage], add_messages]"
   ]
  },
  {
   "cell_type": "code",
   "execution_count": 11,
   "id": "4cc95d87",
   "metadata": {},
   "outputs": [],
   "source": [
    "from langgraph.graph import MessagesState\n",
    "\n",
    "class MessagesState(MessagesState):\n",
    "    # Add any keys needed beyond messages, which is pre-built \n",
    "    pass"
   ]
  },
  {
   "cell_type": "code",
   "execution_count": 12,
   "id": "9f3e9dff",
   "metadata": {},
   "outputs": [
    {
     "data": {
      "text/plain": [
       "[AIMessage(content='Hello! How can I assist you?', additional_kwargs={}, response_metadata={}, name='Model', id='e9d47273-d93b-4a72-aaef-b1f76675acee'),\n",
       " HumanMessage(content=\"I'm looking for information on artificial intelligence.\", additional_kwargs={}, response_metadata={}, name='Lance', id='852fe75b-57de-4c41-a09e-c24fbe7779bd'),\n",
       " AIMessage(content='Sure, I can help with that. What specifically are you interested in?', additional_kwargs={}, response_metadata={}, name='Model', id='49e7e5f9-2b45-451a-9aee-8dca2e8bf370')]"
      ]
     },
     "execution_count": 12,
     "metadata": {},
     "output_type": "execute_result"
    }
   ],
   "source": [
    "# Initial state\n",
    "initial_messages = [\n",
    "    AIMessage(content=\"Hello! How can I assist you?\", name=\"Model\"),\n",
    "    HumanMessage(content=\"I'm looking for information on artificial intelligence.\", name=\"Lance\")\n",
    "]\n",
    "\n",
    "# New message to add\n",
    "new_message = AIMessage(content=\"Sure, I can help with that. What specifically are you interested in?\", name=\"Model\")\n",
    "\n",
    "# Test\n",
    "add_messages(initial_messages, new_message)\n"
   ]
  },
  {
   "cell_type": "markdown",
   "id": "165a3b81",
   "metadata": {},
   "source": [
    "# NOw we will observe out graph"
   ]
  },
  {
   "cell_type": "code",
   "execution_count": 13,
   "id": "7efd72cf",
   "metadata": {},
   "outputs": [
    {
     "data": {
      "image/png": "[encoded data removed]",
      "text/plain": [
       "<IPython.core.display.Image object>"
      ]
     },
     "metadata": {},
     "output_type": "display_data"
    }
   ],
   "source": [
    "from IPython.display import Image, display\n",
    "from langgraph.graph import StateGraph, START, END\n",
    "    \n",
    "# Node\n",
    "def tool_calling_llm(state: MessagesState):\n",
    "    return {\"messages\": [llm_with_tools.invoke(state[\"messages\"])]}\n",
    "\n",
    "# Build graph\n",
    "builder = StateGraph(MessagesState)\n",
    "builder.add_node(\"tool_calling_llm\", tool_calling_llm)\n",
    "builder.add_edge(START, \"tool_calling_llm\")\n",
    "builder.add_edge(\"tool_calling_llm\", END)\n",
    "graph = builder.compile()\n",
    "\n",
    "# View\n",
    "display(Image(graph.get_graph().draw_mermaid_png()))"
   ]
  },
  {
   "cell_type": "code",
   "execution_count": 14,
   "id": "e747ed6f",
   "metadata": {},
   "outputs": [
    {
     "name": "stdout",
     "output_type": "stream",
     "text": [
      "================================\u001b[1m Human Message \u001b[0m=================================\n",
      "\n",
      "Multiply 2 and 3\n",
      "==================================\u001b[1m Ai Message \u001b[0m==================================\n",
      "Tool Calls:\n",
      "  multiply (call_lgZo4g6aAWnvRyilgzJs8Ubc)\n",
      " Call ID: call_lgZo4g6aAWnvRyilgzJs8Ubc\n",
      "  Args:\n",
      "    a: 2\n",
      "    b: 3\n"
     ]
    }
   ],
   "source": [
    "messages = graph.invoke({\"messages\": HumanMessage(content=\"Multiply 2 and 3\")})\n",
    "for m in messages['messages']:\n",
    "    m.pretty_print()"
   ]
  },
  {
   "cell_type": "code",
   "execution_count": 15,
   "id": "ded85921",
   "metadata": {},
   "outputs": [
    {
     "name": "stdout",
     "output_type": "stream",
     "text": [
      "================================\u001b[1m Human Message \u001b[0m=================================\n",
      "\n",
      "Subtract 5 and 10\n",
      "==================================\u001b[1m Ai Message \u001b[0m==================================\n",
      "Tool Calls:\n",
      "  subtract (call_vNxLQjSUkEGPAC8OOZz5cUJi)\n",
      " Call ID: call_vNxLQjSUkEGPAC8OOZz5cUJi\n",
      "  Args:\n",
      "    a: 5\n",
      "    b: 10\n"
     ]
    }
   ],
   "source": [
    "messages = graph.invoke({\"messages\": HumanMessage(content=\"Subtract 5 and 10\")})\n",
    "for m in messages['messages']:\n",
    "    m.pretty_print()"
   ]
  }
 ],
 "metadata": {
  "kernelspec": {
   "display_name": "Python 3",
   "language": "python",
   "name": "python3"
  },
  "language_info": {
   "codemirror_mode": {
    "name": "ipython",
    "version": 3
   },
   "file_extension": ".py",
   "mimetype": "text/x-python",
   "name": "python",
   "nbconvert_exporter": "python",
   "pygments_lexer": "ipython3",
   "version": "3.11.13"
  }
 },
 "nbformat": 4,
 "nbformat_minor": 5
}
