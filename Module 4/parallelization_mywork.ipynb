{
 "cells": [
  {
   "cell_type": "code",
   "execution_count": 1,
   "id": "1628a4b6",
   "metadata": {},
   "outputs": [],
   "source": [
    "%%capture --no-stderr\n",
    "%pip install -U  langgraph tavily-python wikipedia langchain_openai langchain_community langgraph_sdk"
   ]
  },
  {
   "cell_type": "code",
   "execution_count": 2,
   "id": "495f9235",
   "metadata": {},
   "outputs": [],
   "source": [
    "import os, getpass\n",
    "\n",
    "def _set_env(var: str):\n",
    "    if not os.environ.get(var):\n",
    "        os.environ[var] = getpass.getpass(f\"{var}: \")\n",
    "\n",
    "_set_env(\"OPENAI_API_KEY\")"
   ]
  },
  {
   "cell_type": "code",
   "execution_count": 14,
   "id": "1fc6d6ad",
   "metadata": {},
   "outputs": [],
   "source": [
    "from langchain_openai import ChatOpenAI\n",
    "from langchain_core.messages import HumanMessage, SystemMessage\n",
    "from langchain_community.document_loaders import WikipediaLoader\n",
    "from langchain_community.tools import TavilySearchResults\n",
    "from typing import Annotated, TypedDict\n",
    "import operator\n",
    "from langgraph.graph import StateGraph, START, END"
   ]
  },
  {
   "cell_type": "code",
   "execution_count": 15,
   "id": "a136dd66",
   "metadata": {},
   "outputs": [],
   "source": [
    "# Initialize model\n",
    "llm = ChatOpenAI(model=\"gpt-4o\", temperature=0)\n",
    "\n",
    "\n",
    "# Define the graph state\n",
    "class State(TypedDict):\n",
    "    company: str\n",
    "    summary: str\n",
    "    context: Annotated[list, operator.add]"
   ]
  },
  {
   "cell_type": "code",
   "execution_count": 16,
   "id": "301c91f9",
   "metadata": {},
   "outputs": [],
   "source": [
    "# Node 1: Search for recent news\n",
    "def search_news(state):\n",
    "    \"\"\"Retrieve recent tech news about the company.\"\"\"\n",
    "    company = state[\"company\"]\n",
    "    tavily = TavilySearchResults(max_results=3)\n",
    "    search_docs = tavily.invoke(f\"Recent news about {company}\")\n",
    "\n",
    "    formatted_docs = \"\\n\\n---\\n\\n\".join(\n",
    "        [f\"<News href='{doc['url']}'>\\n{doc['content']}\\n</News>\" for doc in search_docs]\n",
    "    )\n",
    "    return {\"context\": [formatted_docs]}\n",
    "\n",
    "# Node 2: Get Wikipedia background\n",
    "def search_background(state):\n",
    "    \"\"\"Retrieve company background from Wikipedia.\"\"\"\n",
    "    company = state[\"company\"]\n",
    "    search_docs = WikipediaLoader(query=company, load_max_docs=1).load()\n",
    "\n",
    "    formatted_docs = \"\\n\\n---\\n\\n\".join(\n",
    "        [f\"<Wikipedia source='{doc.metadata['source']}'>\\n{doc.page_content}\\n</Wikipedia>\" for doc in search_docs]\n",
    "    )\n",
    "    return {\"context\": [formatted_docs]}\n",
    "\n",
    "# Node 3: Generate Investor Brief\n",
    "def summarize_news(state):\n",
    "    \"\"\"Generate a concise investor-focused brief from retrieved context.\"\"\"\n",
    "    company = state[\"company\"]\n",
    "    context = \"\\n\\n\".join(state[\"context\"])\n",
    "\n",
    "    prompt = f\"\"\"\n",
    "    You are a financial analyst. Using the information below, create an **Investor Brief**\n",
    "    about **{company}**.\n",
    "\n",
    "    Information:\n",
    "    {context}\n",
    "\n",
    "    Your brief must include:\n",
    "\n",
    "    **1. Recent Highlights**\n",
    "    - Key events, announcements, product launches, or leadership updates.\n",
    "\n",
    "    **2. Market & Financial Implications**\n",
    "    - Expected impact on business performance, stock movement, or market positioning.\n",
    "\n",
    "    **3. Strategic Outlook**\n",
    "    - Short-term outlook (next 3–6 months)\n",
    "    - Risks and opportunities\n",
    "\n",
    "    Ensure the tone is:\n",
    "    - Neutral and analytical (not promotional)\n",
    "    - Clear, concise, and suitable for business decision making\n",
    "    \"\"\"\n",
    "\n",
    "    response = llm.invoke(prompt)\n",
    "    return {\"summary\": response.content}\n"
   ]
  },
  {
   "cell_type": "code",
   "execution_count": 17,
   "id": "47c3a84c",
   "metadata": {},
   "outputs": [
    {
     "data": {
      "image/png": "[encoded data removed]",
      "text/plain": [
       "<IPython.core.display.Image object>"
      ]
     },
     "metadata": {},
     "output_type": "display_data"
    }
   ],
   "source": [
    "builder = StateGraph(State)\n",
    "\n",
    "# Nodes\n",
    "builder.add_node(\"search_news\", search_news)\n",
    "builder.add_node(\"search_background\", search_background)\n",
    "builder.add_node(\"investor_brief\", summarize_news)  # renamed for clarity\n",
    "\n",
    "# Parallel + merge (fan-out → fan-in)\n",
    "builder.add_edge(START, \"search_news\")\n",
    "builder.add_edge(START, \"search_background\")\n",
    "builder.add_edge(\"search_news\", \"investor_brief\")\n",
    "builder.add_edge(\"search_background\", \"investor_brief\")\n",
    "builder.add_edge(\"investor_brief\", END)\n",
    "\n",
    "# Compile graph\n",
    "graph = builder.compile()\n",
    "\n",
    "# Visualize\n",
    "from IPython.display import Image\n",
    "display(Image(graph.get_graph().draw_mermaid_png()))\n"
   ]
  },
  {
   "cell_type": "code",
   "execution_count": 18,
   "id": "8d6e2aad",
   "metadata": {},
   "outputs": [
    {
     "name": "stderr",
     "output_type": "stream",
     "text": [
      "/var/folders/7p/7t5ggdvs7cd4c2nqjhs3hz6h0000gn/T/ipykernel_25744/805650888.py:5: LangChainDeprecationWarning: The class `TavilySearchResults` was deprecated in LangChain 0.3.25 and will be removed in 1.0. An updated version of the class exists in the `langchain-tavily package and should be used instead. To use it run `pip install -U `langchain-tavily` and import as `from `langchain_tavily import TavilySearch``.\n",
      "  tavily = TavilySearchResults(max_results=3)\n"
     ]
    },
    {
     "name": "stdout",
     "output_type": "stream",
     "text": [
      "**Investor Brief: Google LLC**\n",
      "\n",
      "---\n",
      "\n",
      "**1. Recent Highlights**\n",
      "\n",
      "- **AI Advancements**: In September 2025, Google announced significant upgrades to its AI capabilities across core services such as Chrome and Search. The introduction of Gemini as an AI browsing assistant in Chrome and the enhanced AI Mode in Search for visual inspiration are notable developments. Google DeepMind also introduced new robotics models, and NotebookLM gained new learning features, enhancing its utility as an AI research partner.\n",
      "\n",
      "- **Capital Expenditure Increase**: Google has raised its capital expenditure estimates for 2025 to $91-93 billion, as revealed during the company's Q3 earnings call. This increase is attributed to a significant rise in data center spending anticipated for 2026.\n",
      "\n",
      "- **Product Updates**: Google released a late-October 2025 update for Pixel devices, addressing a major security issue. This update precedes the expected November Android Feature Drop, which will introduce new features such as theme pack support and enhancements to the Pixel Studio app.\n",
      "\n",
      "- **Content Distribution Challenges**: YouTube TV has lost Disney, ESPN, and Hulu channels due to a contract fallout, which may impact its subscriber base and content offering.\n",
      "\n",
      "**2. Market & Financial Implications**\n",
      "\n",
      "- **AI Integration**: The integration of advanced AI features into Google's core services is likely to enhance user engagement and maintain Google's competitive edge in the technology sector. This could positively influence Google's market positioning and potentially drive revenue growth in AI-driven services.\n",
      "\n",
      "- **Increased Capex**: The substantial increase in capital expenditure signals Google's commitment to expanding its infrastructure, particularly in data centers. This investment is expected to support future growth in cloud services and AI capabilities, although it may initially impact profit margins.\n",
      "\n",
      "- **Content Distribution**: The loss of key channels on YouTube TV could lead to subscriber attrition, affecting revenue from this segment. However, Google's ability to negotiate new content deals or enhance its platform with alternative offerings will be crucial in mitigating this risk.\n",
      "\n",
      "**3. Strategic Outlook**\n",
      "\n",
      "- **Short-term Outlook (Next 3–6 Months)**: Google's focus on AI advancements and infrastructure expansion positions it well for continued growth. However, the company must address content distribution challenges and ensure seamless integration of new features to maintain user satisfaction and market share.\n",
      "\n",
      "- **Risks and Opportunities**: \n",
      "  - **Risks**: Potential regulatory scrutiny, particularly concerning antitrust issues, remains a significant risk. Additionally, content distribution challenges and increased competition in the AI and cloud sectors could impact Google's market position.\n",
      "  - **Opportunities**: Continued innovation in AI and cloud services presents opportunities for revenue growth and market expansion. Strategic partnerships and investments in emerging technologies, such as quantum computing and autonomous vehicles, could further enhance Google's long-term prospects.\n",
      "\n",
      "In conclusion, while Google faces certain challenges, its strategic investments in AI and infrastructure, coupled with its strong market position, provide a solid foundation for future growth. Investors should monitor regulatory developments and content distribution strategies closely.\n"
     ]
    }
   ],
   "source": [
    "result = graph.invoke({\"company\": \"google\", \"context\": []})\n",
    "print(result[\"summary\"])"
   ]
  },
  {
   "cell_type": "code",
   "execution_count": 19,
   "id": "19a43a80",
   "metadata": {},
   "outputs": [
    {
     "name": "stdout",
     "output_type": "stream",
     "text": [
      "**Investor Brief: Microsoft Corporation**\n",
      "\n",
      "---\n",
      "\n",
      "**1. Recent Highlights**\n",
      "\n",
      "- **AI Investments**: Microsoft has reported higher-than-expected capital expenditures of $34.9 billion in its latest quarter, primarily driven by investments in artificial intelligence (AI). This move aligns with the broader industry trend where tech giants are heavily investing in AI technologies.\n",
      "\n",
      "- **Gaming Strategy**: In a strategic shift, Microsoft is expanding its gaming portfolio by bringing its flagship sci-fi franchise, Halo, to Sony’s PlayStation. This marks a departure from its previous exclusivity strategy, potentially broadening its gaming audience.\n",
      "\n",
      "- **Product Developments**: Microsoft continues to enhance its productivity offerings with the introduction of Microsoft 365 Copilot, which now enables users to build apps and workflows. This is part of a broader push to integrate AI into its software suite, aiming to improve IT efficiency and user experience.\n",
      "\n",
      "- **Leadership and Vision**: Under CEO Satya Nadella, Microsoft has maintained its focus on cloud computing and AI, while also expanding its gaming and hardware divisions. The acquisition of Activision Blizzard for $68.7 billion in 2023 underscores its commitment to growing its gaming business.\n",
      "\n",
      "**2. Market & Financial Implications**\n",
      "\n",
      "- **Business Performance**: The significant investment in AI is expected to bolster Microsoft’s long-term growth prospects, particularly in cloud computing and enterprise solutions. However, the immediate financial impact may include increased capital expenditures, which could affect short-term profitability.\n",
      "\n",
      "- **Stock Movement**: While the AI investments and gaming strategy could enhance Microsoft's market positioning, there are concerns about a potential AI bubble. Investors may exhibit caution, leading to potential volatility in stock prices.\n",
      "\n",
      "- **Market Positioning**: Microsoft's strategic moves in AI and gaming are likely to strengthen its position as a leader in both sectors. The expansion of its gaming franchise to other platforms could increase its market share and revenue streams.\n",
      "\n",
      "**3. Strategic Outlook**\n",
      "\n",
      "- **Short-term Outlook (Next 3–6 Months)**: Microsoft is expected to continue its focus on integrating AI across its product lines, with potential new announcements in AI-driven services and products. The company will likely face scrutiny over its AI investments and their impact on financial performance.\n",
      "\n",
      "- **Risks and Opportunities**:\n",
      "  - **Risks**: The heavy investment in AI could lead to financial strain if the expected returns do not materialize. Additionally, the shift in gaming strategy may face challenges in execution and consumer reception.\n",
      "  - **Opportunities**: Successful integration of AI into Microsoft’s offerings could lead to significant competitive advantages. The expansion of gaming franchises to other platforms presents an opportunity to capture a larger audience and increase revenue.\n",
      "\n",
      "In conclusion, Microsoft’s strategic investments in AI and gaming, coupled with its robust product development, position it well for future growth. However, investors should remain vigilant about the potential risks associated with these investments and market dynamics.\n"
     ]
    }
   ],
   "source": [
    "result = graph.invoke({\"company\": \"microsoft\", \"context\": []})\n",
    "print(result[\"summary\"])"
   ]
  }
 ],
 "metadata": {
  "kernelspec": {
   "display_name": "Python 3",
   "language": "python",
   "name": "python3"
  },
  "language_info": {
   "codemirror_mode": {
    "name": "ipython",
    "version": 3
   },
   "file_extension": ".py",
   "mimetype": "text/x-python",
   "name": "python",
   "nbconvert_exporter": "python",
   "pygments_lexer": "ipython3",
   "version": "3.11.13"
  }
 },
 "nbformat": 4,
 "nbformat_minor": 5
}
