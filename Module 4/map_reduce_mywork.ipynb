{
 "cells": [
  {
   "cell_type": "code",
   "execution_count": 1,
   "id": "5a2cedfd",
   "metadata": {},
   "outputs": [],
   "source": [
    "%%capture --no-stderr\n",
    "%pip install -U langchain_openai langgraph"
   ]
  },
  {
   "cell_type": "code",
   "execution_count": 2,
   "id": "c16c3c26",
   "metadata": {},
   "outputs": [],
   "source": [
    "import os, getpass\n",
    "\n",
    "def _set_env(var: str):\n",
    "    if not os.environ.get(var):\n",
    "        os.environ[var] = getpass.getpass(f\"{var}: \")\n",
    "\n",
    "_set_env(\"OPENAI_API_KEY\")"
   ]
  },
  {
   "cell_type": "code",
   "execution_count": 14,
   "id": "7b719ebd",
   "metadata": {},
   "outputs": [],
   "source": [
    "from langchain_openai import ChatOpenAI\n",
    "from langgraph.graph import StateGraph, START, END\n",
    "from langgraph.types import Send\n",
    "from typing import Annotated\n",
    "from typing_extensions import TypedDict\n",
    "import operator\n",
    "from pydantic import BaseModel\n",
    "from IPython.display import Image\n",
    "\n",
    "# LLM setup\n",
    "model = ChatOpenAI(model=\"gpt-4o\", temperature=0)"
   ]
  },
  {
   "cell_type": "code",
   "execution_count": 5,
   "id": "76c7e3d3",
   "metadata": {},
   "outputs": [],
   "source": [
    "subtopics_prompt = \"\"\"List 3 unique and engaging subtopics related to the main theme: {theme}.\"\"\"\n",
    "\n",
    "fact_prompt = \"\"\"Share one fun and surprising fact about the following subtopic: {subtopic}.\"\"\"\n",
    "\n",
    "best_fact_prompt = \"\"\"You are given several fun facts about the theme: {theme}.\n",
    "Choose the most interesting fun fact and return ONLY its index (starting from 0).\n",
    "\n",
    "Facts:\n",
    "{facts}\n",
    "\"\"\"\n"
   ]
  },
  {
   "cell_type": "code",
   "execution_count": 6,
   "id": "4beccc08",
   "metadata": {},
   "outputs": [],
   "source": [
    "class Subtopics(BaseModel):\n",
    "    subtopics: list[str]\n",
    "\n",
    "class BestFact(BaseModel):\n",
    "    id: int\n",
    "\n",
    "class OverallState(TypedDict):\n",
    "    theme: str\n",
    "    subtopics: list\n",
    "    facts: Annotated[list, operator.add]\n",
    "    best_fact: str"
   ]
  },
  {
   "cell_type": "code",
   "execution_count": 10,
   "id": "25e35f3d",
   "metadata": {},
   "outputs": [],
   "source": [
    "def generate_subtopics(state: OverallState):\n",
    "    prompt = subtopics_prompt.format(theme=state[\"theme\"])\n",
    "    response = model.with_structured_output(Subtopics).invoke(prompt)\n",
    "    return {\"subtopics\": response.subtopics}\n",
    "\n",
    "def continue_to_facts(state: OverallState):\n",
    "    return [Send(\"generate_fact\", {\"subtopic\": s}) for s in state[\"subtopics\"]]\n",
    "\n",
    "class FactState(TypedDict):\n",
    "    subtopic: str\n",
    "\n",
    "class Fact(BaseModel):\n",
    "    fact: str\n",
    "\n",
    "def generate_fact(state: FactState):\n",
    "    prompt = fact_prompt.format(subtopic=state[\"subtopic\"])\n",
    "    response = model.with_structured_output(Fact).invoke(prompt)\n",
    "    return {\"facts\": [response.fact]}"
   ]
  },
  {
   "cell_type": "code",
   "execution_count": 11,
   "id": "51518206",
   "metadata": {},
   "outputs": [],
   "source": [
    "def choose_best_fact(state: OverallState):\n",
    "    facts = \"\\n\\n\".join(state[\"facts\"])\n",
    "    prompt = best_fact_prompt.format(theme=state[\"theme\"], facts=facts)\n",
    "    response = model.with_structured_output(BestFact).invoke(prompt)\n",
    "    return {\"best_fact\": state[\"facts\"][response.id]}"
   ]
  },
  {
   "cell_type": "code",
   "execution_count": 15,
   "id": "53402152",
   "metadata": {},
   "outputs": [
    {
     "data": {
      "image/png": "[encoded data removed]",
      "text/plain": [
       "<IPython.core.display.Image object>"
      ]
     },
     "execution_count": 15,
     "metadata": {},
     "output_type": "execute_result"
    }
   ],
   "source": [
    "graph = StateGraph(OverallState)\n",
    "graph.add_node(\"generate_subtopics\", generate_subtopics)\n",
    "graph.add_node(\"generate_fact\", generate_fact)\n",
    "graph.add_node(\"choose_best_fact\", choose_best_fact)\n",
    "graph.add_edge(START, \"generate_subtopics\")\n",
    "graph.add_conditional_edges(\"generate_subtopics\", continue_to_facts, [\"generate_fact\"])\n",
    "graph.add_edge(\"generate_fact\", \"choose_best_fact\")\n",
    "graph.add_edge(\"choose_best_fact\", END)\n",
    "\n",
    "app = graph.compile()\n",
    "Image(app.get_graph().draw_mermaid_png())"
   ]
  },
  {
   "cell_type": "code",
   "execution_count": 16,
   "id": "e5f25c7c",
   "metadata": {},
   "outputs": [
    {
     "name": "stdout",
     "output_type": "stream",
     "text": [
      "{'generate_subtopics': {'subtopics': [\"**1. Cultural Wedding Traditions Around the World**  \\nExplore the diverse and fascinating wedding customs from different cultures and countries. From the vibrant and colorful Indian weddings to the serene and symbolic Japanese ceremonies, delve into the unique rituals, attire, and traditions that make each culture's wedding celebrations special.\\n\\n**2. Eco-Friendly and Sustainable Wedding Planning**  \\nDiscover how couples are embracing sustainability in their wedding planning. Learn about eco-friendly venues, zero-waste decorations, and sustainable catering options. Explore how to incorporate green practices into every aspect of a wedding, from invitations to the honeymoon, without compromising on style or elegance.\\n\\n**3. The Evolution of Wedding Fashion: From Vintage to Modern**  \\nTrace the history of wedding fashion and how it has evolved over the decades. Examine the influence of historical events, cultural shifts, and fashion icons on bridal attire. From the classic elegance of the 1920s to the minimalist trends of today, explore how wedding fashion reflects the changing times and personal expressions of love.\"]}}\n",
      "{'generate_fact': {'facts': [\"### Cultural Wedding Traditions Around the World\\n\\n**South Korean Wedding Ducks:**\\nIn South Korea, a unique and charming tradition involves the use of wooden ducks or geese during wedding ceremonies. These birds are symbols of fidelity and harmony because they are known to mate for life. During the ceremony, the groom presents a pair of carved wooden ducks to the bride's family, signifying his commitment to a harmonious and faithful marriage. The ducks are often displayed in the couple's home as a reminder of their vows.\\n\\n---\\n\\n### Eco-Friendly and Sustainable Wedding Planning\\n\\n**Plantable Invitations:**\\nOne innovative and eco-friendly trend in wedding planning is the use of plantable invitations. These invitations are made from biodegradable paper embedded with seeds. After the wedding, guests can plant the invitation in soil, and it will grow into flowers, herbs, or even vegetables. This not only reduces waste but also leaves a lasting, green memory of the special day.\\n\\n---\\n\\n### The Evolution of Wedding Fashion: From Vintage to Modern\\n\\n**Queen Victoria's White Dress Revolution:**\\nBefore Queen Victoria's wedding to Prince Albert in 1840, brides typically wore their best dress, regardless of color. However, Queen Victoria chose to wear a white gown, which was considered unconventional at the time. Her choice was widely publicized and admired, sparking a trend that led to white becoming the traditional color for wedding dresses in Western cultures. This marked a significant shift in bridal fashion, influencing generations to come.\"]}}\n",
      "{'choose_best_fact': {'best_fact': \"### Cultural Wedding Traditions Around the World\\n\\n**South Korean Wedding Ducks:**\\nIn South Korea, a unique and charming tradition involves the use of wooden ducks or geese during wedding ceremonies. These birds are symbols of fidelity and harmony because they are known to mate for life. During the ceremony, the groom presents a pair of carved wooden ducks to the bride's family, signifying his commitment to a harmonious and faithful marriage. The ducks are often displayed in the couple's home as a reminder of their vows.\\n\\n---\\n\\n### Eco-Friendly and Sustainable Wedding Planning\\n\\n**Plantable Invitations:**\\nOne innovative and eco-friendly trend in wedding planning is the use of plantable invitations. These invitations are made from biodegradable paper embedded with seeds. After the wedding, guests can plant the invitation in soil, and it will grow into flowers, herbs, or even vegetables. This not only reduces waste but also leaves a lasting, green memory of the special day.\\n\\n---\\n\\n### The Evolution of Wedding Fashion: From Vintage to Modern\\n\\n**Queen Victoria's White Dress Revolution:**\\nBefore Queen Victoria's wedding to Prince Albert in 1840, brides typically wore their best dress, regardless of color. However, Queen Victoria chose to wear a white gown, which was considered unconventional at the time. Her choice was widely publicized and admired, sparking a trend that led to white becoming the traditional color for wedding dresses in Western cultures. This marked a significant shift in bridal fashion, influencing generations to come.\"}}\n"
     ]
    }
   ],
   "source": [
    "for step in app.stream({\"theme\": \"wedding exploration\"}):\n",
    "    print(step)"
   ]
  }
 ],
 "metadata": {
  "kernelspec": {
   "display_name": "Python 3",
   "language": "python",
   "name": "python3"
  },
  "language_info": {
   "codemirror_mode": {
    "name": "ipython",
    "version": 3
   },
   "file_extension": ".py",
   "mimetype": "text/x-python",
   "name": "python",
   "nbconvert_exporter": "python",
   "pygments_lexer": "ipython3",
   "version": "3.11.13"
  }
 },
 "nbformat": 4,
 "nbformat_minor": 5
}
